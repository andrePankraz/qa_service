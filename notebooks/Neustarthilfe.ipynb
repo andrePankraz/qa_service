{
  "nbformat": 4,
  "nbformat_minor": 0,
  "metadata": {
    "colab": {
      "provenance": [],
      "gpuType": "T4",
      "authorship_tag": "ABX9TyOYrGqhdncplupr0xbrkyuC",
      "include_colab_link": true
    },
    "kernelspec": {
      "name": "python3",
      "display_name": "Python 3"
    },
    "language_info": {
      "name": "python"
    },
    "widgets": {
      "application/vnd.jupyter.widget-state+json": {
        "a133fb80eccc4a62a7a6205aea8dabe3": {
          "model_module": "@jupyter-widgets/controls",
          "model_name": "HBoxModel",
          "model_module_version": "1.5.0",
          "state": {
            "_dom_classes": [],
            "_model_module": "@jupyter-widgets/controls",
            "_model_module_version": "1.5.0",
            "_model_name": "HBoxModel",
            "_view_count": null,
            "_view_module": "@jupyter-widgets/controls",
            "_view_module_version": "1.5.0",
            "_view_name": "HBoxView",
            "box_style": "",
            "children": [
              "IPY_MODEL_b114bb99ec69402eb94e9853d90934ba",
              "IPY_MODEL_64d2ea5b01254f39aca620cefec6877b",
              "IPY_MODEL_da6f3e0405a34fa7bae2613861155dff"
            ],
            "layout": "IPY_MODEL_b43eea7eb8cf4ebd97a490e2681febf7"
          }
        },
        "b114bb99ec69402eb94e9853d90934ba": {
          "model_module": "@jupyter-widgets/controls",
          "model_name": "HTMLModel",
          "model_module_version": "1.5.0",
          "state": {
            "_dom_classes": [],
            "_model_module": "@jupyter-widgets/controls",
            "_model_module_version": "1.5.0",
            "_model_name": "HTMLModel",
            "_view_count": null,
            "_view_module": "@jupyter-widgets/controls",
            "_view_module_version": "1.5.0",
            "_view_name": "HTMLView",
            "description": "",
            "description_tooltip": null,
            "layout": "IPY_MODEL_3f542d79bbe241f0b04451ab02a2a6ef",
            "placeholder": "​",
            "style": "IPY_MODEL_f6b51651db364e399b743bf5b804c860",
            "value": "Downloading https://raw.githubusercontent.com/stanfordnlp/stanza-resources/main/resources_1.5.0.json: "
          }
        },
        "64d2ea5b01254f39aca620cefec6877b": {
          "model_module": "@jupyter-widgets/controls",
          "model_name": "FloatProgressModel",
          "model_module_version": "1.5.0",
          "state": {
            "_dom_classes": [],
            "_model_module": "@jupyter-widgets/controls",
            "_model_module_version": "1.5.0",
            "_model_name": "FloatProgressModel",
            "_view_count": null,
            "_view_module": "@jupyter-widgets/controls",
            "_view_module_version": "1.5.0",
            "_view_name": "ProgressView",
            "bar_style": "success",
            "description": "",
            "description_tooltip": null,
            "layout": "IPY_MODEL_7414320f78624dfe9a417083b7bed82d",
            "max": 30015,
            "min": 0,
            "orientation": "horizontal",
            "style": "IPY_MODEL_2e1f8d0dadeb481c9ac7b7cacf58b878",
            "value": 30015
          }
        },
        "da6f3e0405a34fa7bae2613861155dff": {
          "model_module": "@jupyter-widgets/controls",
          "model_name": "HTMLModel",
          "model_module_version": "1.5.0",
          "state": {
            "_dom_classes": [],
            "_model_module": "@jupyter-widgets/controls",
            "_model_module_version": "1.5.0",
            "_model_name": "HTMLModel",
            "_view_count": null,
            "_view_module": "@jupyter-widgets/controls",
            "_view_module_version": "1.5.0",
            "_view_name": "HTMLView",
            "description": "",
            "description_tooltip": null,
            "layout": "IPY_MODEL_9cbdc29eba5f4c2c815b0a79b5fcaf51",
            "placeholder": "​",
            "style": "IPY_MODEL_78800d0c8c804473954c20f80e1ee4cf",
            "value": " 216k/? [00:00&lt;00:00, 3.69MB/s]"
          }
        },
        "b43eea7eb8cf4ebd97a490e2681febf7": {
          "model_module": "@jupyter-widgets/base",
          "model_name": "LayoutModel",
          "model_module_version": "1.2.0",
          "state": {
            "_model_module": "@jupyter-widgets/base",
            "_model_module_version": "1.2.0",
            "_model_name": "LayoutModel",
            "_view_count": null,
            "_view_module": "@jupyter-widgets/base",
            "_view_module_version": "1.2.0",
            "_view_name": "LayoutView",
            "align_content": null,
            "align_items": null,
            "align_self": null,
            "border": null,
            "bottom": null,
            "display": null,
            "flex": null,
            "flex_flow": null,
            "grid_area": null,
            "grid_auto_columns": null,
            "grid_auto_flow": null,
            "grid_auto_rows": null,
            "grid_column": null,
            "grid_gap": null,
            "grid_row": null,
            "grid_template_areas": null,
            "grid_template_columns": null,
            "grid_template_rows": null,
            "height": null,
            "justify_content": null,
            "justify_items": null,
            "left": null,
            "margin": null,
            "max_height": null,
            "max_width": null,
            "min_height": null,
            "min_width": null,
            "object_fit": null,
            "object_position": null,
            "order": null,
            "overflow": null,
            "overflow_x": null,
            "overflow_y": null,
            "padding": null,
            "right": null,
            "top": null,
            "visibility": null,
            "width": null
          }
        },
        "3f542d79bbe241f0b04451ab02a2a6ef": {
          "model_module": "@jupyter-widgets/base",
          "model_name": "LayoutModel",
          "model_module_version": "1.2.0",
          "state": {
            "_model_module": "@jupyter-widgets/base",
            "_model_module_version": "1.2.0",
            "_model_name": "LayoutModel",
            "_view_count": null,
            "_view_module": "@jupyter-widgets/base",
            "_view_module_version": "1.2.0",
            "_view_name": "LayoutView",
            "align_content": null,
            "align_items": null,
            "align_self": null,
            "border": null,
            "bottom": null,
            "display": null,
            "flex": null,
            "flex_flow": null,
            "grid_area": null,
            "grid_auto_columns": null,
            "grid_auto_flow": null,
            "grid_auto_rows": null,
            "grid_column": null,
            "grid_gap": null,
            "grid_row": null,
            "grid_template_areas": null,
            "grid_template_columns": null,
            "grid_template_rows": null,
            "height": null,
            "justify_content": null,
            "justify_items": null,
            "left": null,
            "margin": null,
            "max_height": null,
            "max_width": null,
            "min_height": null,
            "min_width": null,
            "object_fit": null,
            "object_position": null,
            "order": null,
            "overflow": null,
            "overflow_x": null,
            "overflow_y": null,
            "padding": null,
            "right": null,
            "top": null,
            "visibility": null,
            "width": null
          }
        },
        "f6b51651db364e399b743bf5b804c860": {
          "model_module": "@jupyter-widgets/controls",
          "model_name": "DescriptionStyleModel",
          "model_module_version": "1.5.0",
          "state": {
            "_model_module": "@jupyter-widgets/controls",
            "_model_module_version": "1.5.0",
            "_model_name": "DescriptionStyleModel",
            "_view_count": null,
            "_view_module": "@jupyter-widgets/base",
            "_view_module_version": "1.2.0",
            "_view_name": "StyleView",
            "description_width": ""
          }
        },
        "7414320f78624dfe9a417083b7bed82d": {
          "model_module": "@jupyter-widgets/base",
          "model_name": "LayoutModel",
          "model_module_version": "1.2.0",
          "state": {
            "_model_module": "@jupyter-widgets/base",
            "_model_module_version": "1.2.0",
            "_model_name": "LayoutModel",
            "_view_count": null,
            "_view_module": "@jupyter-widgets/base",
            "_view_module_version": "1.2.0",
            "_view_name": "LayoutView",
            "align_content": null,
            "align_items": null,
            "align_self": null,
            "border": null,
            "bottom": null,
            "display": null,
            "flex": null,
            "flex_flow": null,
            "grid_area": null,
            "grid_auto_columns": null,
            "grid_auto_flow": null,
            "grid_auto_rows": null,
            "grid_column": null,
            "grid_gap": null,
            "grid_row": null,
            "grid_template_areas": null,
            "grid_template_columns": null,
            "grid_template_rows": null,
            "height": null,
            "justify_content": null,
            "justify_items": null,
            "left": null,
            "margin": null,
            "max_height": null,
            "max_width": null,
            "min_height": null,
            "min_width": null,
            "object_fit": null,
            "object_position": null,
            "order": null,
            "overflow": null,
            "overflow_x": null,
            "overflow_y": null,
            "padding": null,
            "right": null,
            "top": null,
            "visibility": null,
            "width": null
          }
        },
        "2e1f8d0dadeb481c9ac7b7cacf58b878": {
          "model_module": "@jupyter-widgets/controls",
          "model_name": "ProgressStyleModel",
          "model_module_version": "1.5.0",
          "state": {
            "_model_module": "@jupyter-widgets/controls",
            "_model_module_version": "1.5.0",
            "_model_name": "ProgressStyleModel",
            "_view_count": null,
            "_view_module": "@jupyter-widgets/base",
            "_view_module_version": "1.2.0",
            "_view_name": "StyleView",
            "bar_color": null,
            "description_width": ""
          }
        },
        "9cbdc29eba5f4c2c815b0a79b5fcaf51": {
          "model_module": "@jupyter-widgets/base",
          "model_name": "LayoutModel",
          "model_module_version": "1.2.0",
          "state": {
            "_model_module": "@jupyter-widgets/base",
            "_model_module_version": "1.2.0",
            "_model_name": "LayoutModel",
            "_view_count": null,
            "_view_module": "@jupyter-widgets/base",
            "_view_module_version": "1.2.0",
            "_view_name": "LayoutView",
            "align_content": null,
            "align_items": null,
            "align_self": null,
            "border": null,
            "bottom": null,
            "display": null,
            "flex": null,
            "flex_flow": null,
            "grid_area": null,
            "grid_auto_columns": null,
            "grid_auto_flow": null,
            "grid_auto_rows": null,
            "grid_column": null,
            "grid_gap": null,
            "grid_row": null,
            "grid_template_areas": null,
            "grid_template_columns": null,
            "grid_template_rows": null,
            "height": null,
            "justify_content": null,
            "justify_items": null,
            "left": null,
            "margin": null,
            "max_height": null,
            "max_width": null,
            "min_height": null,
            "min_width": null,
            "object_fit": null,
            "object_position": null,
            "order": null,
            "overflow": null,
            "overflow_x": null,
            "overflow_y": null,
            "padding": null,
            "right": null,
            "top": null,
            "visibility": null,
            "width": null
          }
        },
        "78800d0c8c804473954c20f80e1ee4cf": {
          "model_module": "@jupyter-widgets/controls",
          "model_name": "DescriptionStyleModel",
          "model_module_version": "1.5.0",
          "state": {
            "_model_module": "@jupyter-widgets/controls",
            "_model_module_version": "1.5.0",
            "_model_name": "DescriptionStyleModel",
            "_view_count": null,
            "_view_module": "@jupyter-widgets/base",
            "_view_module_version": "1.2.0",
            "_view_name": "StyleView",
            "description_width": ""
          }
        }
      }
    },
    "accelerator": "GPU",
    "gpuClass": "standard"
  },
  "cells": [
    {
      "cell_type": "markdown",
      "metadata": {
        "id": "view-in-github",
        "colab_type": "text"
      },
      "source": [
        "<a href=\"https://colab.research.google.com/github/andrePankraz/qa_service/blob/main/notebooks/Neustarthilfe.ipynb\" target=\"_parent\"><img src=\"https://colab.research.google.com/assets/colab-badge.svg\" alt=\"Open In Colab\"/></a>"
      ]
    },
    {
      "cell_type": "markdown",
      "source": [
        "# Neustarthilfe 2022 FAQ-Suche\n",
        "Install necessary packages."
      ],
      "metadata": {
        "id": "_YNIC4d3zXZo"
      }
    },
    {
      "cell_type": "code",
      "source": [
        "!pip install --quiet openai stanza tiktoken sentence-transformers"
      ],
      "metadata": {
        "id": "S1eHtIp_86_k"
      },
      "execution_count": 1,
      "outputs": []
    },
    {
      "cell_type": "markdown",
      "source": [
        "Import text data:\n",
        "*   Fetch URL web page with FAQ text and parse HTML\n",
        "*   Extract FAQ text data into data struct (list of lists)\n",
        "*   Export as JSON lines file 'faq.jsonl' and as text file 'faq.txt'"
      ],
      "metadata": {
        "id": "wZWJrdJQ9MO2"
      }
    },
    {
      "cell_type": "code",
      "source": [
        "import requests\n",
        "from bs4 import BeautifulSoup, NavigableString\n",
        "import re\n",
        "import json\n",
        "\n",
        "# Convert HTML element into raw inner text:\n",
        "# Preserve some structure like paragraphs, lists etc.\n",
        "def process_element(element, indent=''):\n",
        "    if isinstance(element, NavigableString):\n",
        "        return element # preserve <span>&nbsp;</span>\n",
        "\n",
        "    if element.name == 'p':\n",
        "        content = ''.join(process_element(child, indent) for child in element.children)\n",
        "        return f'\\n{indent}{content.strip()}\\n'\n",
        "\n",
        "    if element.name == 'br':\n",
        "        return f'\\n{indent}'\n",
        "\n",
        "    if element.name in ['ul', 'ol']:\n",
        "        items = ['\\n']\n",
        "        for item in element.find_all('li', recursive=False):\n",
        "            item_content = ''.join(process_element(child, indent + '    ') for child in item.children)\n",
        "            items.append(f'{indent}- {item_content.strip()}')\n",
        "        return '\\n'.join(items)\n",
        "\n",
        "    if element.name == 'sup':\n",
        "        return ''\n",
        "\n",
        "    # Process other elements and concatenate their content\n",
        "    content = []\n",
        "    for child in element.children:\n",
        "        content.append(process_element(child, indent))\n",
        "    return ''.join(content)\n",
        "\n",
        "# Convert FAQ texts from source HTML into a FAQ data struct (list of lists)\n",
        "def extract_elterngeld_digital_faq():\n",
        "    # Fetch HTML with FAQ texts:\n",
        "    url = 'https://www.ueberbrueckungshilfe-unternehmen.de/DE/FAQ/Nsh-22/neustarthilfe-2022.html'\n",
        "    response = requests.get(url)\n",
        "    content = response.content.decode('utf-8')\n",
        "\n",
        "    # Remove potential carriage returns\n",
        "    content = content.replace('\\r', '')\n",
        "    # Replace newline characters with a space (we have no <pre>)\n",
        "    content = content.replace('\\n', ' ')\n",
        "    # Replace multiple spaces with a single space\n",
        "    content = re.sub(r'\\s+', ' ', content)\n",
        "\n",
        "    # Parse HTML\n",
        "    soup = BeautifulSoup(content, 'html.parser')\n",
        "\n",
        "    # Target data structure\n",
        "    faq = [['ID', 'Thema_ID', 'Thema', 'Frage_ID', 'Frage', 'Antwort']]\n",
        "\n",
        "    # Get relevant root element for FAQ texts\n",
        "    main_div_element = soup.find('div', class_='accordion__content')\n",
        "\n",
        "    # Extract FAQ texts into data structure\n",
        "    group_id = 0\n",
        "    question_id = 0\n",
        "\n",
        "    for child in main_div_element.children:\n",
        "      if child.name == 'h2' and child.get('class') == ['accordion__headline']:\n",
        "        group_id += 1\n",
        "        question_group = child.text.strip()\n",
        "      elif child.name == 'div' and child.get('class') == ['accordion__element']:\n",
        "        question_id += 1\n",
        "        question = child.find('h3', class_='accordion__title').text.strip()\n",
        "        answer_element = child.find('div', class_='accordion__panel')\n",
        "        answer = process_element(answer_element)\n",
        "        # Replace multiple \"empty lines\" (lines with just spaces and \\n) with a single newline character\n",
        "        # and replace \"trailing spaces followed by \\n\" with just \"\\n\"\n",
        "        answer = re.sub(r'([ ]*\\n)+', '\\n', answer).strip()\n",
        "        faq.append([question_id, group_id, question_group, question_id, question, answer])\n",
        "\n",
        "    return faq\n",
        "\n",
        "# Export FAQ data struct as JSON lines file 'faq.jsonl'\n",
        "def write_faq_json(faq):\n",
        "    with open('faq.jsonl', 'w', encoding=\"utf-8\") as f:\n",
        "      for entry in faq:\n",
        "        json.dump(entry, f, ensure_ascii=False)\n",
        "        f.write('\\n')\n",
        "\n",
        "# Export FAQ data struct as raw text file (for debugging)\n",
        "def write_faq_text(faq):\n",
        "    with open('faq.txt', 'w', encoding=\"utf-8\") as f:\n",
        "      for item in faq[1:]:\n",
        "        f.write(f\"{item[4]}\\n{item[5]}\\n\")\n",
        "        f.write('\\n')\n",
        "\n",
        "# Call this functions\n",
        "faq = extract_elterngeld_digital_faq()\n",
        "write_faq_json(faq)\n",
        "write_faq_text(faq)\n",
        "\n",
        "# Print migrated data for debugging\n",
        "if False:\n",
        "    for item in faq:\n",
        "      print(f\"{item[4]}\\n{item[5]}\\n\")"
      ],
      "metadata": {
        "id": "KuM2RajD9OOW"
      },
      "execution_count": 2,
      "outputs": []
    },
    {
      "cell_type": "markdown",
      "source": [
        "Import JSON lines file 'faq.jsonl' and convert into generic format for document question answering."
      ],
      "metadata": {
        "id": "SDRpqoA5zsJl"
      }
    },
    {
      "cell_type": "code",
      "source": [
        "def import_faq_documents() -> list[tuple[str, str, str]]:\n",
        "    faq = []\n",
        "    with open(\"faq.jsonl\", \"r\", encoding=\"utf-8\") as f:\n",
        "        for line in f:\n",
        "            obj = json.loads(line)\n",
        "            faq.append(obj)\n",
        "\n",
        "    # ID, Title, Text\n",
        "    documents = [(f[0], f[4], f[5]) for f in faq[1:]]\n",
        "    return documents\n",
        "\n",
        "documents = import_faq_documents()\n",
        "# documents"
      ],
      "metadata": {
        "id": "1OEu2b2sztyc"
      },
      "execution_count": 3,
      "outputs": []
    },
    {
      "cell_type": "markdown",
      "source": [
        "# Tests with Open Source Models (On-Prem)\n",
        "Load embedding model."
      ],
      "metadata": {
        "id": "suaqx40Vio-v"
      }
    },
    {
      "cell_type": "code",
      "source": [
        "import torch\n",
        "from sentence_transformers import SentenceTransformer\n",
        "\n",
        "device = torch.device(\"cuda:0\" if torch.cuda.is_available() else \"cpu\")\n",
        "\n",
        "# OKish models for german (and sometimes also english)...\n",
        "# German only, quite good and small:\n",
        "# embedding_model_id = 'PM-AI/bi-encoder_msmarco_bert-base_german'\n",
        "# Bilingual, quite good and small\n",
        "# See good Benchmarks: https://huggingface.co/PM-AI/sts_paraphrase_xlm-roberta-base_de-en\n",
        "# embedding_model_id = 'PM-AI/sts_paraphrase_xlm-roberta-base_de-en' # prefers cos\n",
        "# German only, OKish and midsized:\n",
        "# embedding_model_id = 'Sahajtomar/German-semantic'\n",
        "# Multilingual, pretty good and small\n",
        "# MPNet seems to be better than RoBERTa variantes, even though very short 128er windows\n",
        "# embedding_model_id = 'sentence-transformers/paraphrase-multilingual-mpnet-base-v2'\n",
        "# Multilingual, pretty good and small\n",
        "# Fine tuned from model before and with longer sequence length of 512\n",
        "embedding_model_id = 'LLukas22/paraphrase-multilingual-mpnet-base-v2-embedding-all'\n",
        "\n",
        "embedding_model = SentenceTransformer(embedding_model_id, device=device)\n",
        "embedding_max_seq_length = embedding_model.max_seq_length\n",
        "\n",
        "embedding_model.device, embedding_model, embedding_max_seq_length"
      ],
      "metadata": {
        "colab": {
          "base_uri": "https://localhost:8080/"
        },
        "id": "UWTKnX3_i5Mp",
        "outputId": "75dc299e-2152-4975-f6fb-58030306bdc8"
      },
      "execution_count": 4,
      "outputs": [
        {
          "output_type": "execute_result",
          "data": {
            "text/plain": [
              "(device(type='cpu'),\n",
              " SentenceTransformer(\n",
              "   (0): Transformer({'max_seq_length': 512, 'do_lower_case': False}) with Transformer model: XLMRobertaModel \n",
              "   (1): Pooling({'word_embedding_dimension': 768, 'pooling_mode_cls_token': False, 'pooling_mode_mean_tokens': True, 'pooling_mode_max_tokens': False, 'pooling_mode_mean_sqrt_len_tokens': False})\n",
              " ),\n",
              " 512)"
            ]
          },
          "metadata": {},
          "execution_count": 4
        }
      ]
    },
    {
      "cell_type": "markdown",
      "source": [
        "Load NLP models for sentence splitting."
      ],
      "metadata": {
        "id": "rDMnU1XRkz3I"
      }
    },
    {
      "cell_type": "code",
      "source": [
        "import stanza\n",
        "\n",
        "# configure stanza for sentence splitting in multiple languages\n",
        "nlp = stanza.MultilingualPipeline(\n",
        "    lang_id_config={\"langid_clean_text\": True},\n",
        "    lang_configs={'de': {'processors': 'tokenize,mwt', 'verbose': False}, 'en': {'processors': 'tokenize', 'verbose': False}})\n",
        "test = nlp('Initialisiere Deutsche Modelle. Das ist ein Test').sentences"
      ],
      "metadata": {
        "colab": {
          "base_uri": "https://localhost:8080/",
          "height": 260,
          "referenced_widgets": [
            "a133fb80eccc4a62a7a6205aea8dabe3",
            "b114bb99ec69402eb94e9853d90934ba",
            "64d2ea5b01254f39aca620cefec6877b",
            "da6f3e0405a34fa7bae2613861155dff",
            "b43eea7eb8cf4ebd97a490e2681febf7",
            "3f542d79bbe241f0b04451ab02a2a6ef",
            "f6b51651db364e399b743bf5b804c860",
            "7414320f78624dfe9a417083b7bed82d",
            "2e1f8d0dadeb481c9ac7b7cacf58b878",
            "9cbdc29eba5f4c2c815b0a79b5fcaf51",
            "78800d0c8c804473954c20f80e1ee4cf"
          ]
        },
        "id": "hkmm5cgUk2d7",
        "outputId": "4e4e57db-7f4a-462c-b27f-7e55f19ec553"
      },
      "execution_count": 5,
      "outputs": [
        {
          "output_type": "stream",
          "name": "stderr",
          "text": [
            "INFO:stanza:Checking for updates to resources.json in case models have been updated.  Note: this behavior can be turned off with download_method=None or download_method=DownloadMethod.REUSE_RESOURCES\n"
          ]
        },
        {
          "output_type": "display_data",
          "data": {
            "text/plain": [
              "Downloading https://raw.githubusercontent.com/stanfordnlp/stanza-resources/main/resources_1.5.0.json:   0%|   …"
            ],
            "application/vnd.jupyter.widget-view+json": {
              "version_major": 2,
              "version_minor": 0,
              "model_id": "a133fb80eccc4a62a7a6205aea8dabe3"
            }
          },
          "metadata": {}
        },
        {
          "output_type": "stream",
          "name": "stderr",
          "text": [
            "INFO:stanza:Loading these models for language: multilingual ():\n",
            "=======================\n",
            "| Processor | Package |\n",
            "-----------------------\n",
            "| langid    | ud      |\n",
            "=======================\n",
            "\n",
            "INFO:stanza:Using device: cuda\n",
            "INFO:stanza:Loading: langid\n",
            "INFO:stanza:Done loading processors!\n"
          ]
        }
      ]
    },
    {
      "cell_type": "markdown",
      "source": [
        "Split documents into paragraphs (chunks / windows) for embedding:\n",
        "*   Embedding models have a max token size, use it for splitting\n",
        "*   Split at sentence ends, not in middle of sentences\n",
        "*   Overlap chunks if possible"
      ],
      "metadata": {
        "id": "03Qgys0zjLM3"
      }
    },
    {
      "cell_type": "code",
      "source": [
        "import tiktoken\n",
        "\n",
        "# configure tiktoken for token splitting in target embedding model\n",
        "embedding_tokenizer = tiktoken.encoding_for_model(\"text-embedding-ada-002\")\n",
        "\n",
        "def split_into_paragraphs(documents, max_sentences, overlap_sentences, max_tokens, overlap_tokens):\n",
        "    paragraphs = []  # resulting list\n",
        "\n",
        "    for nr, document in enumerate(documents):\n",
        "        id, title, text = document\n",
        "\n",
        "        # pre-calculate token number for document title (part of embedding paragraph)\n",
        "        title_tokens = len(embedding_tokenizer.encode(title))\n",
        "\n",
        "        # split document text into sentences\n",
        "        nlp_sentences = [s.text for s in nlp(text).sentences]\n",
        "        # pre-calculate token numbers for each document sentence\n",
        "        sentence_tokens = [len(embedding_tokenizer.encode(nlp_sentence)) for nlp_sentence in nlp_sentences]\n",
        "\n",
        "        sentence_index = -1\n",
        "        paragraph = ''\n",
        "        paragraph_sentences = 0\n",
        "        paragraph_tokens = 0\n",
        "\n",
        "        index = 0\n",
        "        while index < len(sentence_tokens):\n",
        "            tokens = sentence_tokens[index]\n",
        "\n",
        "            if sentence_index == -1:\n",
        "                # start new paragraph\n",
        "                sentence_index = index\n",
        "                paragraph = nlp_sentences[index]\n",
        "                paragraph_sentences = 1\n",
        "                paragraph_tokens = title_tokens + 1 + tokens\n",
        "                index += 1\n",
        "                continue\n",
        "\n",
        "            if (max_sentences <= 0 or paragraph_sentences < max_sentences) and (max_tokens <= 0 or paragraph_tokens + tokens <= max_tokens):\n",
        "                # continue paragraph\n",
        "                paragraph += ' ' + nlp_sentences[index]\n",
        "                paragraph_sentences += 1\n",
        "                paragraph_tokens += 1 + tokens\n",
        "                index += 1\n",
        "                continue\n",
        "\n",
        "            # finish paragraph\n",
        "            paragraphs.append((nr, sentence_index, title, paragraph, paragraph_tokens))\n",
        "\n",
        "            # overlap paragraphs with sentence or token window - whatever boundary triggered first\n",
        "            if max_sentences > 0 and paragraph_sentences == max_sentences and overlap_sentences <= max_sentences / 2:\n",
        "              index -= overlap_sentences\n",
        "            if max_tokens > 0 and paragraph_tokens + tokens > max_tokens and overlap_tokens > 0 and overlap_tokens <= max_tokens / 2:\n",
        "                overlap_tokens_sum = 0\n",
        "                while index > sentence_index + 1:\n",
        "                    overlap_tokens_sum += sentence_tokens[index - 1]\n",
        "                    if overlap_tokens_sum > overlap_tokens:\n",
        "                        break\n",
        "                    index -= 1\n",
        "\n",
        "            # trigger new paragraph\n",
        "            sentence_index = -1\n",
        "        else:\n",
        "            if sentence_index != -1:\n",
        "                # add final paragraph\n",
        "                paragraphs.append((nr, sentence_index, title, paragraph, paragraph_tokens))\n",
        "    return paragraphs\n",
        "\n",
        "\n",
        "max_sentences = 6\n",
        "overlap_sentences = 1\n",
        "max_tokens = embedding_max_seq_length\n",
        "overlap_tokens = max_tokens / 6\n",
        "\n",
        "paragraphs = split_into_paragraphs(documents, max_sentences, overlap_sentences, max_tokens, overlap_tokens)\n",
        "\n",
        "print(f\"Splitted {len(documents)} documents into {len(paragraphs)} paragraphs with max sequence length {max_tokens}.\")\n",
        "# paragraphs"
      ],
      "metadata": {
        "colab": {
          "base_uri": "https://localhost:8080/"
        },
        "id": "ZmRTVW7PjM0U",
        "outputId": "d7dd1903-bbd1-4d6c-c3bf-44242302e474"
      },
      "execution_count": 6,
      "outputs": [
        {
          "output_type": "stream",
          "name": "stdout",
          "text": [
            "Splitted 56 documents into 169 paragraphs with max sequence length 512.\n"
          ]
        }
      ]
    },
    {
      "cell_type": "markdown",
      "source": [
        "Create embeddings for fact paragraphs.\n",
        "\n",
        "Prefix the paragraphs with the title, if title isn't already included into the paragraph."
      ],
      "metadata": {
        "id": "pqOvuPCojhZ5"
      }
    },
    {
      "cell_type": "code",
      "source": [
        "embedding_paragraphs = [p[3] if p[2] in p[3] else p[2] + ': ' + p[3] for p in paragraphs]\n",
        "\n",
        "embeddings = embedding_model.encode(embedding_paragraphs)\n",
        "\n",
        "print(f\"Embedded {len(embeddings)} paragraphs with {embeddings.shape[1]} dimensions each.\")"
      ],
      "metadata": {
        "colab": {
          "base_uri": "https://localhost:8080/"
        },
        "id": "W05i2QTmjju1",
        "outputId": "5b0284df-d806-416d-a1f0-7e1bd974042d"
      },
      "execution_count": 7,
      "outputs": [
        {
          "output_type": "stream",
          "name": "stdout",
          "text": [
            "Embedded 169 paragraphs with 768 dimensions each.\n"
          ]
        }
      ]
    },
    {
      "cell_type": "markdown",
      "source": [
        "Create embedding for question."
      ],
      "metadata": {
        "id": "Pw5fC9HBJ1Wt"
      }
    },
    {
      "cell_type": "code",
      "source": [
        "question = 'Welche Regelungen gelten für die Berechnung des Elterngelds bei Frühgeborene?'\n",
        "\n",
        "query_embedding = embedding_model.encode(question)\n",
        "\n",
        "print(f\"Embedded 1 question with {len(query_embedding)} dimensions.\")"
      ],
      "metadata": {
        "id": "AYWi7pXijvtp",
        "outputId": "d9ba6b25-e173-474b-fab9-9a5cfe0733c9",
        "colab": {
          "base_uri": "https://localhost:8080/"
        }
      },
      "execution_count": 8,
      "outputs": [
        {
          "output_type": "stream",
          "name": "stdout",
          "text": [
            "Embedded 1 question with 768 dimensions.\n"
          ]
        }
      ]
    },
    {
      "cell_type": "markdown",
      "source": [
        "Find best embeddings via [k-nearest-neighbors (kNN)](https://en.wikipedia.org/wiki/K-nearest_neighbors_algorithm) with [Cosine similarity](https://en.wikipedia.org/wiki/Cosine_similarity)."
      ],
      "metadata": {
        "id": "FA6f3godjuYy"
      }
    },
    {
      "cell_type": "code",
      "source": [
        "import numpy as np\n",
        "\n",
        "# L2-normalize -> dot-score is than same like cosine-similarity\n",
        "embeddings = embeddings / np.sqrt((embeddings**2).sum(1, keepdims=True))\n",
        "query_embedding = query_embedding / np.sqrt((query_embedding**2).sum())\n",
        "\n",
        "similarities = embeddings.dot(query_embedding)\n",
        "top_similarities = np.argsort(-similarities)\n",
        "\n",
        "print('Top 30 paragraphs:')\n",
        "for k in top_similarities[:30]:\n",
        "    print(f\"(Score: {similarities[k]:.4f})  {paragraphs[k]}\")"
      ],
      "metadata": {
        "colab": {
          "base_uri": "https://localhost:8080/"
        },
        "id": "t50gMjU0Jod6",
        "outputId": "6104d0ad-e6ef-4f57-bc6e-ab1bc241eef6"
      },
      "execution_count": 9,
      "outputs": [
        {
          "output_type": "stream",
          "name": "stdout",
          "text": [
            "Top 30 paragraphs:\n",
            "(Score: 0.7356)  (46, 0, '6.3 Welche Regelungen gelten, wenn ich 2019 in Elternzeit war und daher geringere oder keine Umsätze aus selbständiger Tätigkeit hatte?', 'Berechnung des Referenzumsatzes bei Elternzeit in 2019\\nFür Antragstellende, die im Jahr 2019 Elternzeit in Anspruch genommen haben, besteht stets die Möglichkeit die Elternzeit als Unterbrechung der Geschäftstätigkeit (= außergewöhnlicher Umstand) zu behandeln und den Referenzumsatz nach Punkt 6.2 berechnen zu lassen. Auf Anforderung der Bewilligungsstellen sind entsprechende Nachweise bereitzustellen. Berechnung des Referenzumsatzes bei vollständiger Elternzeit im Jahr 2019\\nAntragstellende, die 2019 vollständig in Elternzeit waren, können sich auch entscheiden, alternativ den Referenzumsatz für 2019 auf Basis des Elterngeldes zu ermitteln. Als (dreimonatiger) Referenzumsatz gilt dann 25 Prozent des im Jahr 2019 erhaltenen Elterngeldes zuzüglich eines 15-prozentigen Aufschlages auf das in 2019 erhaltene Elterngeld (Referenzumsatz = 40 Prozent des Elterngeldes 2019). Zur Berechnung der Neustarthilfe 2022 anhand des Referenzumsatzes siehe Ziffer 3.2. Zur Frage der Antragsberechtigung bei vollständiger Elternzeit in 2019, siehe Ziffer 2.4.', 368)\n",
            "(Score: 0.6856)  (11, 5, '3.6 Welche Einnahmen aus nichtselbständiger Tätigkeit werden berücksichtigt?', 'Es ist auf die Zahlungen abzustellen, die für einen Monat des jeweiligen Vergleichszeitraums gezahlt wurden. Unerheblich ist, ob einzelne Einnahmen eventuell steuerfrei sind. Wollen Sie Einnahmen aus kurz befristeten Beschäftigungsverhältnissen in den Darstellenden Künsten und/oder aus unständigen Beschäftigungsverhältnissen geltend machen (siehe Ziffer 2.3), geben Sie diese in den Anträgen bitte in einem separaten Feld an (siehe Ziffer 3.7). ----------------------------------------------\\nFür den Fall, dass Sie im Jahr 2019 ausschließlich und für das ganze Jahr Elterngeld bezogen haben, siehe unter Ziffer 6.3.', 206)\n",
            "(Score: 0.6388)  (41, 0, '5.8 Wird der Zuschuss auf das Arbeitslosengeld beziehungsweise die Grundsicherung für Arbeitssuchende angerechnet?', 'Nein, die Neustarthilfe 2022 dient der Sicherung der wirtschaftlichen Existenz der Antragstellenden, während das Arbeitslosengeld (ALG) eine Lohnersatzleistung und ALG II eine Leistung zur Sicherung des Lebensunterhalts ist. Auch bei der Ermittlung des Einkommens zur Bestimmung des Kinderzuschlags findet er keine Berücksichtigung.', 131)\n",
            "(Score: 0.6225)  (45, 0, '6.2 Gibt es Sonderregelungen für Fälle, in denen die Umsätze im Vergleichszeitraum 2019 aufgrund außergewöhnlicher Umstände (zum Beispiel Unterbrechung der Geschäftstätigkeit wegen Eltern- oder Pflegezeit, Krankheit) vergleichsweise gering waren?', 'Bezugsgröße für die Berechnung des Referenzumsatzes ist grundsätzlich bei Aufnahme der selbständigen Tätigkeit vor dem 1. Januar 2019 das Jahr 2019. Vergleichsweise geringe Einkünfte im Jahr 2019 aufgrund anderer außergewöhnlicher Umstände\\nAntragstellende, die vor dem 1. Januar 2019 die selbständige Tätigkeit aufgenommen haben, deren Umsätze im regulär heranzuziehenden Vergleichszeitraum 2019 aber aufgrund begründeter außergewöhnlicher Umstände (andere Umstände als Unterbrechung der Geschäftstätigkeit im Jahr 2019 aufgrund von Elternzeit, Pflegezeit oder Krankheit, siehe nächste Ziffer) ungewöhnlich niedrig waren, haben die Möglichkeit, zur Berechnung des Referenzumsatzes als alternativen Vergleichsumsatz (Referenzmonatsumsatz)\\n- entweder den monatlichen Durchschnittsumsatz eines Quartals von 2019 (zum Beispiel 1. Quartal 1. Januar bis 31. März 2019 oder 3. Quartal: 1. Juli bis 30. September 2019)\\n- oder den Durchschnitt aller vollen Monate im Jahr 2019, in denen ein Umsatz im Sinne von 3.5 erzielt wurde,\\nheranzuziehen.', 419)\n",
            "(Score: 0.5996)  (51, 5, '7.4 Wie erfolgen die Prüfung der Anträge und die Auszahlungen/Rückzahlungen im Rahmen des Wahlrechtes?', 'In allen Fällen wird die endgültige Höhe des Förderbetrages erst im Rahmen der Schlussabrechnung (Überbrückungshilfe IV) beziehungsweise Endabrechnung (Neustarthilfe 2022) ermittelt. Wenn der endgültige Förderbetrag von den getätigten Auszahlungen abweicht, wird die Differenz ausgezahlt beziehungsweise zurückgefordert.', 139)\n",
            "(Score: 0.5899)  (7, 19, '3.2 Wie hoch ist die Vorschusszahlung?', 'Stichtag für die Ermittlung der Anzahl der so zu berücksichtigenden Gesellschafterinnen oder Gesellschafter beziehungsweise Mitglieder ist der 31. Dezember 2021.', 64)\n",
            "(Score: 0.5857)  (11, 0, '3.6 Welche Einnahmen aus nichtselbständiger Tätigkeit werden berücksichtigt?', 'Beantragen Sie als natürliche Person die Neustarthilfe 2022, werden sowohl bei der Berechnung des Referenzumsatzes als auch bei der Endabrechnung Einnahmen aus nichtselbständiger Arbeit zusätzlich zu den freiberuflichen und gewerblichen Umsätzen berücksichtigt. Im Antragsverfahren erfolgt die Abfrage nach den Einnahmen aus nichtselbständiger Tätigkeit in einem gesonderten Feld („Einnahmen im Vergleichszeitraum aus weiteren nichtselbständigen Beschäftigungsverhältnissen“). In dieses geben Sie die Summe der folgenden Einnahmen im Vergleichszeitraum (in der Regel 2019) ein:\\n- Löhne und Gehälter aus sozialversicherungspflichtigen Beschäftigungsverhältnissen (anzugeben ist der Bruttolohn / das Bruttogehalt)\\n- die im Rahmen von geringfügigen Beschäftigungsverhältnissen erzielten Entgelte (sogenannte „Minijobs“ bis zu 450 Euro, sowie kurzfristigen Beschäftigungen). - steuerfreie Lohnersatzleistungen wie zum Beispiel Kurzarbeitergeld, Arbeitslosengeld und Elterngeld (siehe § 32b Absatz 1 Einkommensteuergesetz, EStG). Hinzuzurechnen sind auch (abschließende Aufzählung):\\n- vermögenswirksame Leistungen\\n- Abfindungen\\n- Sachbezüge\\n- Tantiemen\\n- Provisionen\\n- Gratifikationen\\n- Versorgungsbezüge\\n- (Basis-) Renten, unter anderem Renten aus der gesetzlichen Rentenversicherung (siehe § 22 Nummer 1 Satz 3 Buchstabe a Doppelbuchstabe aa EStG). Es ist auf die Zahlungen abzustellen, die für einen Monat des jeweiligen Vergleichszeitraums gezahlt wurden.', 497)\n",
            "(Score: 0.5853)  (9, 5, '3.4 Darf ich den Vorschuss in voller Höhe behalten?', 'Januar bis 31. März 2022 (erstes Quartal) bzw. im Zeitraum 1. April bis 30. Juni (zweites Quartal) offenlegen. Dabei werden beide Quartale für die Berechnung der Höhe der Rückzahlungen separat betrachtet. Von prüfenden Dritten erstellte Endabrechnungen müssen bis zum 31. März 2023 eingereicht werden. Sollte der in der Endabrechnung berechnete Förderbetrag geringer ausfallen als die bereits ausgezahlte Vorschusszahlung, ist die Neustarthilfe 2022 (anteilig) zurückzuzahlen.', 179)\n",
            "(Score: 0.5852)  (7, 20, '3.2 Wie hoch ist die Vorschusszahlung?', 'Dezember 2021.', 21)\n",
            "(Score: 0.5814)  (26, 5, '4.8 Wie funktioniert die Endabrechnung?', 'Bei der Endabrechnung ist der erzielte Umsatz in den Förderzeiträumen Januar bis März und/oder April bis Juni anzugeben. Im Rahmen dieser Selbstprüfung sind Einnahmen aus nichtselbständigen Tätigkeiten und weitere Einnahmen – sofern vorhanden – zu den Umsätzen aus selbständiger Tätigkeit zu addieren (vergleiche 3.5, 3.6). Sollte der Umsatz während der dreimonatigen Förderzeiträume der Neustarthilfe 2022 bei über 40 Prozent des entsprechenden dreimonatigen Referenzumsatzes liegen, sind der Bewilligungsstelle anfallende Rückzahlungen zu überweisen. Erfolgt keine Endabrechnung, ist der ausgezahlte Vorschuss vollständig zurückzuzahlen. Zur Überprüfung der Angaben finden stichprobenhaft Nachprüfungen statt (siehe auch Ziffer 4.9). Den Antragstellenden der Neustarthilfe 2022 und der Überbrückungshilfe IV wird ein Wahlrecht eingeräumt, das bis zum 15.', 284)\n",
            "(Score: 0.5810)  (45, 13, '6.2 Gibt es Sonderregelungen für Fälle, in denen die Umsätze im Vergleichszeitraum 2019 aufgrund außergewöhnlicher Umstände (zum Beispiel Unterbrechung der Geschäftstätigkeit wegen Eltern- oder Pflegezeit, Krankheit) vergleichsweise gering waren?', 'Quartals 2021 (Vergleichszeitraum: 1. Juli 2021 bis 30. September 2021),\\n- den durchschnittlichen monatlichen Umsatz aller vollen Monate der selbständigen/gewerblichen Geschäftstätigkeit im Jahr 2021 oder\\n- den durchschnittlichen Monatsumsatz des Jahres 2021 anhand des geschätzten Jahresumsatzes 2021, der bei der erstmaligen steuerlichen Erfassung beim zuständigen Finanzamt im \"Fragebogen zur steuerlichen Erfassung\" angegeben wurde,\\nheranziehen. Begründung und Nachweis der außergewöhnlichen Umstände\\nIm Antragsformular ist bei der Begründung des außergewöhnlichen Umstandes jeweils der ursprünglich (das heißt ohne die hier beschriebene Regelung) anzusetzende Referenzumsatz anzugeben. - Im Falle eines Direktantrags ist das Vorliegen eines außergewöhnlichen Umstandes im Antrag zu begründen und auf Anforderung der Bewilligungsstelle nachzuweisen. - Im Falle der Antragstellung durch eine prüfende oder einen prüfenden Dritten ist das Vorliegen begründeter außergewöhnlicher Umstände gegenüber der beziehungsweise dem prüfenden Dritten darzulegen. Die oder der prüfende Dritte prüft die Angaben der Antragstellenden auf Nachvollziehbarkeit und Plausibilität und nimmt die Angaben zu seinen Unterlagen.', 457)\n",
            "(Score: 0.5735)  (31, 0, '4.13 Wie ist vorzugehen, wenn ein Bewilligungsbescheid und/oder eine Auszahlung fehlerhaft ist?', 'Im Falle einer zu hohen Bewilligung beziehungsweise Auszahlung wird eine Korrektur spätestens im Rahmen der Endabrechnung erfolgen, verbunden mit einer Aufforderung zur Rückzahlung, falls der bereits gezahlte Zuschuss den endgültigen Anspruch übersteigt. In Fällen einer zu niedrigen Bewilligung beziehungsweise Auszahlung kann eine Korrektur ebenfalls im Rahmen der Endabrechnung erfolgen, verbunden mit einer entsprechenden Nachzahlung.', 154)\n",
            "(Score: 0.5718)  (45, 8, '6.2 Gibt es Sonderregelungen für Fälle, in denen die Umsätze im Vergleichszeitraum 2019 aufgrund außergewöhnlicher Umstände (zum Beispiel Unterbrechung der Geschäftstätigkeit wegen Eltern- oder Pflegezeit, Krankheit) vergleichsweise gering waren?', 'September 2021 wie eine erstmalige Aufnahme der Geschäftstätigkeit zu behandeln (vergleiche 3.3). Somit können Sie zur Berechnung des Referenzumsatzes auch die unter 3.3 genannten Vergleichszeiträume heranziehen. Somit können Antragstellende, deren außergewöhnliche Umstände in einer Unterbrechung ihrer Geschäftstätigkeit im Jahr 2019 aufgrund von Elternzeit, Pflegezeit oder Krankheit bestehen, zur Berechnung des Referenzumsatzes als alternativen Vergleichsumsatz (Referenzmonatsumsatz)\\n- den durchschnittlichen monatlichen Umsatz aller vollen Monate der selbständigen/gewerblichen Geschäftstätigkeit im Jahr 2019,\\n- den durchschnittlichen Monatsumsatz der beiden Vorkrisenmonate Januar und Februar 2020 (Vergleichszeitraum: 1. Januar 2020 bis 29. Februar 2020),\\n- oder den durchschnittlichen Monatsumsatz des 3. Quartals 2021 (Vergleichszeitraum: 1.', 353)\n",
            "(Score: 0.5676)  (7, 10, '3.2 Wie hoch ist die Vorschusszahlung?', 'Der Referenzumsatz und die daraus resultierende Vorschusszahlung werden automatisch berechnet. Maximale Auszahlung:\\nFür natürliche Personen und Ein-Personen-Kapitalgesellschaften beträgt die maximale Auszahlung 4.500 Euro für ein Quartal bzw. 9.000 Euro für den Gesamtförderzeitraum von Januar bis Juni 2022. Für Mehr-Personen-Kapitalgesellschaften und Genossenschaften hängt die maximale Auszahlung davon ab, wie viele der Gesellschafterinnen oder Gesellschafter beziehungsweise Mitglieder mindestens 20 Stunden pro Woche für diese arbeiten und, im Falle einer Mehr-Personen-Kapitalgesellschaft, gleichzeitig mindestens 25 Prozent der Anteile an der Gesellschaft halten. Der für natürliche Personen und Ein-Personen-Gesellschaften gültige Höchstbetrag von 4.500 Euro für ein Quartal bzw. 9.000 Euro für den Gesamtförderzeitraum von Januar bis Juni 2022 wird mit der Anzahl der Gesellschafterinnen oder Gesellschaftern beziehungsweise Mitglieder multipliziert, die diese Voraussetzungen erfüllen.', 301)\n",
            "(Score: 0.5599)  (7, 31, '3.2 Wie hoch ist die Vorschusszahlung?', 'Alternativ kann in solchen Fällen auf den Durchschnitt aller vollen Monate im Jahr 2019, in denen ein Umsatz im Sinne von 3.5 erzielt wurde, abgestellt werden. Im Antragsformular ist neben einer Begründung der außergewöhnlichen Umstände auch jeweils der ursprünglich (das heißt ohne die hier beschriebene Regelung) anzusetzende Vergleichsumsatz (Referenzumsatz) anzugeben. Kurz befristet Beschäftigte in den Darstellenden Künsten und unständig Beschäftigte (im Sinne von 2.3) können bei der Antragstellung als Datum auch den ersten Tag des Monats angeben, in dem sie erstmalig Einnahmen aus unständigen beziehungsweise kurz befristeten Beschäftigungsverhältnissen nach Definition der Neustarthilfe 2022 erzielt haben. Ist das genaue Datum dieses ersten Engagements nicht mehr bekannt, da es weit in der Vergangenheit zurückliegt, in jedem Fall aber vor dem 1. Januar 2019, kann hilfsweise das Datum „31. Dezember 2018“ angegeben werden.', 296)\n",
            "(Score: 0.5516)  (7, 22, '3.2 Wie hoch ist die Vorschusszahlung?', 'Dezember 2018 aufgenommen haben beziehungsweise für Kapitalgesellschaften/Genossenschaften, die nach 31. Dezember 2018 gegründet wurden, gelten abweichende Berechnungsmöglichkeiten (siehe Ziffer 3.3). Soloselbständige, die nach dem 30. September 2021 ihre selbständige/gewerbliche Tätigkeit aufgenommen haben und Kapitalgesellschaften/Genossenschaften, die nach dem 30. September 2021 gegründet wurden, sind nicht antragsberechtigt. Als Datum für die Aufnahme der selbständigen Tätigkeit zählt für natürliche Personen der Tag, an dem die selbständige/gewerbliche Tätigkeit beim Finanzamt angemeldet beziehungsweise die gewerbliche Tätigkeit beim Gewerbeamt angemeldet wurde.', 222)\n",
            "(Score: 0.5510)  (45, 18, '6.2 Gibt es Sonderregelungen für Fälle, in denen die Umsätze im Vergleichszeitraum 2019 aufgrund außergewöhnlicher Umstände (zum Beispiel Unterbrechung der Geschäftstätigkeit wegen Eltern- oder Pflegezeit, Krankheit) vergleichsweise gering waren?', 'Die oder der prüfende Dritte prüft die Angaben der Antragstellenden auf Nachvollziehbarkeit und Plausibilität und nimmt die Angaben zu seinen Unterlagen. Auf Nachfrage der Bewilligungsstelle legt die oder der prüfende Dritte die Angaben der Antragstellenden beziehungsweise des Antragstellers der Bewilligungsstelle vor. Darüberhinausgehende Sonderregelungen sind nicht vorgesehen. Die Neustarthilfe 2022 soll eine unbürokratisch zu beantragende Fördermaßnahme sein. Daher sind Abweichungen von der Berechnung des Referenzumsatzes, die eine weitere Prüfung erforderlich machen würden, nicht vorgesehen. Für Antragstellende, die zwischen dem 1. Januar 2019 und dem 30.', 281)\n",
            "(Score: 0.5505)  (7, 5, '3.2 Wie hoch ist die Vorschusszahlung?', 'Der durchschnittliche monatliche Umsatz des Jahres 2019 ist der Referenzmonatsumsatz. Der dreimonatige Referenzumsatz ist das Dreifache dieses Referenzmonatsumsatzes. - Referenzumsatz = (Jahresumsatz 2019 / 12) x 3\\n- Neustarthilfe 2022 = 0,5 x Referenzumsatz\\nSowohl bei der Berechnung des Referenzumsatzes als auch des in den Förderzeiträumen des ersten und/oder zweiten Quartals realisierten Umsatzes sind ggfls. bestehende Einnahmen aus nichtselbständigen Tätigkeiten zu berücksichtigen (vergleiche Ziffern 3.5, 3.6). Im Antragsverfahren müssen Sie hierfür nur die Summe der freiberuflichen und/oder gewerblichen Umsätze und Einnahmen aus nichtselbständiger Arbeit im Vergleichszeitraum angeben. Der Referenzumsatz und die daraus resultierende Vorschusszahlung werden automatisch berechnet.', 273)\n",
            "(Score: 0.5500)  (10, 5, '3.5 Wie ist der Umsatz definiert? Welche weiteren Betriebseinnahmen können berücksichtigt werden?', 'Nachausschüttungen von Verwertungsgesellschaften sind dabei nicht zu berücksichtigen. Für natürliche Personen als Antragstellende werden zusätzlich Einnahmen aus nichtselbständiger Arbeit (siehe Ziffern 2.3, 3.6 und 3.7) berücksichtigt. Weitere nicht umsatzsteuerbare Betriebseinnahmen (beispielsweise Zuschüsse anderer Corona-Hilfsprogramme) sind nicht anzugeben. Als freiberufliche/ gewerbliche Umsätze sind für die Berechnung der Neustarthilfe 2022 die Netto-Umsätze anzugeben, das heißt Umsätze abzüglich der Umsatzsteuer. Diese sind die Betriebseinnahmen, welche die Antragstellenden in ihren Einnahmen-Überschussrechnungen oder Gewinn- und Verlustrechnungen angeben. Ein Umsatz wurde in dem Monat erzielt, in dem die Leistung erbracht wurde.', 272)\n",
            "(Score: 0.5490)  (45, 23, '6.2 Gibt es Sonderregelungen für Fälle, in denen die Umsätze im Vergleichszeitraum 2019 aufgrund außergewöhnlicher Umstände (zum Beispiel Unterbrechung der Geschäftstätigkeit wegen Eltern- oder Pflegezeit, Krankheit) vergleichsweise gering waren?', 'Für Antragstellende, die zwischen dem 1. Januar 2019 und dem 30. September 2021 ihre Geschäftstätigkeit aufgenommen haben beziehungsweise gegründet wurden, können die unter 3.3 genannten Vergleichszeiträume zur Ermittlung ihres Referenzumsatzes herangezogen werden.', 162)\n",
            "(Score: 0.5409)  (26, 0, '4.8 Wie funktioniert die Endabrechnung?', 'Nach Ablauf des Gesamtförderzeitraums sind die direktantragstellenden Empfängerinnen oder Empfänger der Neustarthilfe 2022 verpflichtet, bis spätestens 30. September 2022 eine Endabrechnung über das Endabrechnungsonline-Tool auf der Plattform www.ueberbrueckungshilfe-unternehmen.dezu erstellen. Endabrechnungen für Anträge, die über prüfende Dritte gestellt wurden, müssen von prüfenden Dritten bis zum 31. März 2023 überantrag.ueberbrueckungshilfe-unternehmen.de eingereicht werden. Auf einem anderen Kommunikationsweg eingereichte Endabrechnungen können nicht bearbeitet werden. Bei der Endabrechnung ist der erzielte Umsatz in den Förderzeiträumen Januar bis März und/oder April bis Juni anzugeben.', 236)\n",
            "(Score: 0.5396)  (4, 11, '2.4 Wie finde ich heraus, ob meine beziehungsweise die Einkünfte meiner Kapitalgesellschaft oder meiner Genossenschaft zu einem Antrag auf Neustarthilfe 2022 für das erste und/oder zweite Quartal berechtigen?', 'Dezember 2018 aufgenommen oder wurde die Kapitalgesellschaft/Genossenschaft nach dem 31. Dezember 2018 gegründet, stellen Sie bei der Berechnung auf die Einkünfte in dem Zeitraum ab, den Sie für die Berechnung des Referenzumsatzes zugrunde legen (vergleiche Ziffer 3.3). Sie können auch so vorgehen, wenn Sie auf außergewöhnliche Umstände aufgrund Unterbrechung der Geschäftstätigkeit wegen Eltern- oder Pflegezeit, Krankheit abstellen und sich entscheiden, die anschließende Wiederaufnahme der Geschäftstätigkeit vor dem 1. Oktober 2021 wie eine erstmalige Aufnahme der Geschäftstätigkeit zu behandeln (vergleiche Ziffer 6.2). Vollständige Elternzeit im Jahr 2019\\nWenn Sie 2019 vollständig in Elternzeit waren, sind Sie grundsätzlich antragsberechtigt, wenn Sie Ihre Geschäftstätigkeit vor dem 1. Oktober 2021 wiederaufgenommen haben und\\n- im Januar 2020 und im Februar 2020 (1. Januar 2020 bis 29.', 343)\n",
            "(Score: 0.5396)  (46, 5, '6.3 Welche Regelungen gelten, wenn ich 2019 in Elternzeit war und daher geringere oder keine Umsätze aus selbständiger Tätigkeit hatte?', 'Zur Frage der Antragsberechtigung bei vollständiger Elternzeit in 2019, siehe Ziffer 2.4. Auf Anforderung der Bewilligungsstellen sind entsprechende Nachweise bereitzustellen.', 92)\n",
            "(Score: 0.5393)  (7, 0, '3.2 Wie hoch ist die Vorschusszahlung?', 'Der Gesamtförderzeitraum für die Neustarthilfe 2022 ist Januar bis Juni 2022 (sechs Monate). Erfüllt eine Antragstellende oder ein Antragstellender die Antragsvoraussetzungen (siehe Ziffer 2.1), wird die Neustarthilfe 2022 als Vorschuss pro Quartal beantragt und ausgezahlt. Sie beträgt einmalig 50 Prozent des dreimonatigen Referenzumsatzes, maximal aber 4.500 Euro für Soloselbständige und Ein-Personen-Kapitalgesellschaften pro Quartal sowie bis zu 18.000 Euro für Mehr-Personen-Kapitalgesellschaften und Genossenschaften pro Quartal. Zur Definition des Umsatzes siehe Ziffern 3.5, 3.6 und 3.7.\\nBerechnung des Referenzumsatzes:\\nZur Berechnung des dreimonatigen Referenzumsatzes (auch kurz: „Referenzumsatz“) wird grundsätzlich das Jahr 2019 (1. Januar bis 31. Dezember 2019) zugrunde gelegt. Der durchschnittliche monatliche Umsatz des Jahres 2019 ist der Referenzmonatsumsatz.', 313)\n",
            "(Score: 0.5381)  (6, 5, '3.1 Wie wird die Neustarthilfe 2022 gewährt?', 'Für weitere Informationen zur Funktionsweise der Endabrechnung siehe Ziffer 4.8. Dabei gilt die Regel, je stärker das Geschäft im beantragten Quartal unter der Corona-Pandemie gelitten hat, desto weniger muss von der Neustarthilfe 2022 zurückgezahlt werden. Antragstellende, die beispielsweise im ersten Quartal 2022 nur 40 Prozent des Referenzumsatzes des Jahres 2019 oder noch weniger erzielt haben (das heißt ein Umsatzeinbruch von 60 Prozent und mehr), können den Vorschuss für das erste Quartal in voller Höhe behalten und müssen nichts zurückzahlen (siehe Ziffer 3.4).', 186)\n",
            "(Score: 0.5313)  (47, 0, '6.4 Kann die Neustarthilfe 2022 zum Beispiel von einem Gerichtsvollzieher gepfändet werden?', 'Zahlungen der Neustarthilfe 2022 können nicht gepfändet werden, wenn ein Pfändungsschutz besteht. Grundsätzlich kann bei der Neustarthilfe 2022 ein Pfändungsschutz aufgrund ihrer Zweckbindung (Sicherung der wirtschaftlichen Existenz durch Kompensation des Umsatzausfalls) bestehen. Ob eine Unpfändbarkeit im Einzelfall vorliegt, muss durch das zuständige Vollstreckungsgericht festgestellt werden.', 147)\n",
            "(Score: 0.5305)  (9, 10, '3.4 Darf ich den Vorschuss in voller Höhe behalten?', 'Sollte der in der Endabrechnung berechnete Förderbetrag geringer ausfallen als die bereits ausgezahlte Vorschusszahlung, ist die Neustarthilfe 2022 (anteilig) zurückzuzahlen. Für weitere Informationen zur Funktionsweise der Endabrechnung siehe Ziffer 4.8.\\nRückzahlung je nach Umsatz(einbruch) pro Quartal gegenüber Referenzumsatz:\\n Keine/(anteilige) Rückzahlung?Umsatz im Förderzeitraum eines Quartals gegenüber dreimonatigem ReferenzumsatzUmsatzeinbruch im Förderzeitraum eines Quartals gegenüber dreimonatigem Referenzumsatzkeine RückzahlungUmsatz ≤ 40 Prozent des ReferenzumsatzesUmsatzeinbruch ≥ 60 Prozent des Referenzumsatzesvollständige RückzahlungUmsatz > 90 Prozent des ReferenzumsatzesUmsatzeinbruch < 10 Prozent des Referenzumsatzesanteilige RückzahlungUmsatz > 40 Prozent, aber ≤ 90 Prozent des ReferenzumsatzesUmsatzeinbruch ≥ 10 Prozent und < 60 Prozent des Referenzumsatzes\\nKeine Rückzahlung (Umsatz ≤ 40 Prozent des dreimonatigen Referenzumsatzes) Sie dürfen die als Vorschuss ausgezahlte Neustarthilfe 2022 pro Quartal in voller Höhe behalten, wenn Ihr Umsatz oder der Umsatz Ihrer Kapitalgesellschaft oder Ihrer Genossenschaft während des dreimonatigen Förderzeitraums Januar bis März 2022 bzw. April bis Juni 2022 im Vergleich zu Ihrem dreimonatigen Referenzumsatz um 60 Prozent oder mehr zurückgegangen ist, das heißt Ihr Umsatz oder der Umsatz Ihrer Kapitalgesellschaft oder Genossenschaft im Förderzeitraum also 40 Prozent oder weniger des dreimonatigen Referenzumsatzes beträgt.', 478)\n",
            "(Score: 0.5294)  (51, 0, '7.4 Wie erfolgen die Prüfung der Anträge und die Auszahlungen/Rückzahlungen im Rahmen des Wahlrechtes?', 'Alle im Rahmen des Wahlrechtes eingegangenen Anträge werden durch die Bewilligungsstellen geprüft. Sollte der bewilligte Förderbetrag in dem neu ausgewählten Programm höher sein als in dem bisher ausgewählten, wird die Bewilligungsstelle den neuen Förderbetrag um die bereits vorgenommene Auszahlung kürzen und den Restbetrag auszahlen. Eine Rückzahlung ist damit nicht erforderlich, weil der neue Auszahlungsbetrag um die bereits ausgezahlte Summe gekürzt wurde. Sollte der bewilligte Förderbetrag in dem neu ausgewählten Programm geringer sein als in dem bisher ausgewählten, muss die Differenz zunächst nicht zurückgezahlt werden. Eine gegebenenfalls anfallende Rückzahlung wird im Rahmen der Schlussabrechnung (Überbrückungshilfe IV) beziehungsweise Endabrechnung (Neustarthilfe 2022) festgelegt. In allen Fällen wird die endgültige Höhe des Förderbetrages erst im Rahmen der Schlussabrechnung (Überbrückungshilfe IV) beziehungsweise Endabrechnung (Neustarthilfe 2022) ermittelt.', 331)\n",
            "(Score: 0.5233)  (36, 0, '5.3 In welchem Verhältnis steht die Neustarthilfe 2022 mit weiteren Corona-Hilfen sowie Versicherungsleistungen?', 'Eine Anrechnung der Neustarthilfe 2022 auf weitere coronabedingte Zuschussprogramme der Länder oder der Kommunen findet nur dann statt, wenn sich Förderzweck und Förderzeitraum überschneiden und sich ohne die Anrechnung eine Überkompensation ergeben würde. Dies wird von den entsprechenden Ländern/Kommunen sichergestellt. Es wird darauf hingewiesen, dass Zuschüsse nach dem Sozialdienstleister-Einsatzgesetz (SodEG) laut § 4 Absatz 1 Nummer 4 SodEG subsidiär zur Neustarthilfe 2022 sind. Das heißt die Inanspruchnahme der Neustarthilfe 2022 als Zuschuss verringert gegebenenfalls den SodEG-Anspruch. Aus Versicherungen aufgrund Betriebseinschränkungen erhaltene Zahlungen, welche denselben Zeitraum wie die beantragte Neustarthilfe 2022 abdecken, werden auf die Höhe der Neustarthilfe 2022 nicht angerechnet.', 293)\n",
            "(Score: 0.5215)  (23, 1, '4.5 Welche Angaben sind für die Antragstellung erforderlich?', 'Januar 2019 bis zum 30. September 2021: Jahresumsatz 2019, Summe des Monatsumsatzes der beiden Vorkrisenmonate Januar und Februar 2020, Umsatz des 3. Quartals 2021, Umsatz aller vollen Monate im Jahr 2021 oder geschätzter Jahresumsatz 2021) (siehe Ziffern 3.2 und 3.3)\\n- Erklärung, dass eine Endabrechnung durch Selbstprüfung nach Ablauf des Gesamtförderzeitraums erfolgt, spätestens bis zum 30. September 2022 für Direktantragstellende und spätestens bis zum 31.', 185)\n"
          ]
        }
      ]
    },
    {
      "cell_type": "markdown",
      "source": [
        "Recluster found paragraphs with same title."
      ],
      "metadata": {
        "id": "0gdFzonKJ_ze"
      }
    },
    {
      "cell_type": "code",
      "source": [
        "def longest_overlap_suffix_prefix(s1, s2):\n",
        "    for i in range(len(s1)-1, -1, -1):\n",
        "        if s2.startswith(s1[i:]):\n",
        "            return s1[i:]\n",
        "    return \"\"\n",
        "\n",
        "def merge_overlapping_fragments(fragments):\n",
        "    result = fragments[0]\n",
        "    for i in range(1, len(fragments)):\n",
        "        overlap = longest_overlap_suffix_prefix(result, fragments[i])\n",
        "        if len(overlap) == 0:\n",
        "            result += ' ' + fragments[i]\n",
        "        else:\n",
        "            result += fragments[i][len(overlap):]\n",
        "    return result\n",
        "\n",
        "def restruct_top_paragraphs(nested_list):\n",
        "    clustered_items = {}\n",
        "\n",
        "    for item in nested_list:\n",
        "        if item[0] not in clustered_items:\n",
        "            clustered_items[item[0]] = []\n",
        "        clustered_items[item[0]].append(item)\n",
        "\n",
        "    # Sort each cluster by the second entry\n",
        "    for key in clustered_items:\n",
        "        clustered_items[key] = sorted(clustered_items[key], key=lambda x: x[1])\n",
        "\n",
        "    # Combine clusters in the original order\n",
        "    reordered_list = []\n",
        "    for key in clustered_items:\n",
        "        reordered_list.append([key, clustered_items[key][0][2], merge_overlapping_fragments([item[3] for item in clustered_items[key]])])\n",
        "\n",
        "    return reordered_list\n",
        "\n",
        "top_paragraphs = [paragraphs[k] for k in top_similarities[:30]]\n",
        "top_paragraphs = restruct_top_paragraphs(top_paragraphs)\n",
        "\n",
        "# top_paragraphs"
      ],
      "metadata": {
        "id": "yH0rSnnzj3fo"
      },
      "execution_count": 10,
      "outputs": []
    },
    {
      "cell_type": "markdown",
      "source": [
        "Aggregate facts into a text corpus:\n",
        "*   Use references that can be parsed out of generated response [[x]]\n",
        "*   Restrict text corpus to max token size (function argument)"
      ],
      "metadata": {
        "id": "o9iRFiYqSJzh"
      }
    },
    {
      "cell_type": "code",
      "source": [
        "import tiktoken\n",
        "\n",
        "prompt_tokenizer = tiktoken.encoding_for_model(\"gpt-4\")\n",
        "\n",
        "def top_facts(top_paragraphs, max_facts_tokens):\n",
        "    facts = ''\n",
        "    facts_tokens = 0\n",
        "\n",
        "    for top_paragraph in top_paragraphs:\n",
        "        fact = '[[' + str(top_paragraph[0]) + ']] ' + top_paragraph[1] + ' ' + top_paragraph[2]\n",
        "        fact_tokens = len(prompt_tokenizer.encode(fact))\n",
        "        if facts_tokens + fact_tokens > max_facts_tokens:\n",
        "            break\n",
        "        facts += '\\n' + fact\n",
        "        facts_tokens += 1 + fact_tokens\n",
        "\n",
        "    return facts\n",
        "\n",
        "facts = top_facts(top_paragraphs, 2500)\n",
        "\n",
        "print(facts)\n",
        "print(f\"Tokens: {len(prompt_tokenizer.encode(facts))}\")"
      ],
      "metadata": {
        "colab": {
          "base_uri": "https://localhost:8080/"
        },
        "id": "tXIUKufZoH2T",
        "outputId": "fd2de9d9-2bcd-4903-ce7d-9274f60b7168"
      },
      "execution_count": 11,
      "outputs": [
        {
          "output_type": "stream",
          "name": "stdout",
          "text": [
            "\n",
            "[[46]] 6.3 Welche Regelungen gelten, wenn ich 2019 in Elternzeit war und daher geringere oder keine Umsätze aus selbständiger Tätigkeit hatte? Berechnung des Referenzumsatzes bei Elternzeit in 2019\n",
            "Für Antragstellende, die im Jahr 2019 Elternzeit in Anspruch genommen haben, besteht stets die Möglichkeit die Elternzeit als Unterbrechung der Geschäftstätigkeit (= außergewöhnlicher Umstand) zu behandeln und den Referenzumsatz nach Punkt 6.2 berechnen zu lassen. Auf Anforderung der Bewilligungsstellen sind entsprechende Nachweise bereitzustellen. Berechnung des Referenzumsatzes bei vollständiger Elternzeit im Jahr 2019\n",
            "Antragstellende, die 2019 vollständig in Elternzeit waren, können sich auch entscheiden, alternativ den Referenzumsatz für 2019 auf Basis des Elterngeldes zu ermitteln. Als (dreimonatiger) Referenzumsatz gilt dann 25 Prozent des im Jahr 2019 erhaltenen Elterngeldes zuzüglich eines 15-prozentigen Aufschlages auf das in 2019 erhaltene Elterngeld (Referenzumsatz = 40 Prozent des Elterngeldes 2019). Zur Berechnung der Neustarthilfe 2022 anhand des Referenzumsatzes siehe Ziffer 3.2. Zur Frage der Antragsberechtigung bei vollständiger Elternzeit in 2019, siehe Ziffer 2.4. Auf Anforderung der Bewilligungsstellen sind entsprechende Nachweise bereitzustellen.\n",
            "[[11]] 3.6 Welche Einnahmen aus nichtselbständiger Tätigkeit werden berücksichtigt? Beantragen Sie als natürliche Person die Neustarthilfe 2022, werden sowohl bei der Berechnung des Referenzumsatzes als auch bei der Endabrechnung Einnahmen aus nichtselbständiger Arbeit zusätzlich zu den freiberuflichen und gewerblichen Umsätzen berücksichtigt. Im Antragsverfahren erfolgt die Abfrage nach den Einnahmen aus nichtselbständiger Tätigkeit in einem gesonderten Feld („Einnahmen im Vergleichszeitraum aus weiteren nichtselbständigen Beschäftigungsverhältnissen“). In dieses geben Sie die Summe der folgenden Einnahmen im Vergleichszeitraum (in der Regel 2019) ein:\n",
            "- Löhne und Gehälter aus sozialversicherungspflichtigen Beschäftigungsverhältnissen (anzugeben ist der Bruttolohn / das Bruttogehalt)\n",
            "- die im Rahmen von geringfügigen Beschäftigungsverhältnissen erzielten Entgelte (sogenannte „Minijobs“ bis zu 450 Euro, sowie kurzfristigen Beschäftigungen). - steuerfreie Lohnersatzleistungen wie zum Beispiel Kurzarbeitergeld, Arbeitslosengeld und Elterngeld (siehe § 32b Absatz 1 Einkommensteuergesetz, EStG). Hinzuzurechnen sind auch (abschließende Aufzählung):\n",
            "- vermögenswirksame Leistungen\n",
            "- Abfindungen\n",
            "- Sachbezüge\n",
            "- Tantiemen\n",
            "- Provisionen\n",
            "- Gratifikationen\n",
            "- Versorgungsbezüge\n",
            "- (Basis-) Renten, unter anderem Renten aus der gesetzlichen Rentenversicherung (siehe § 22 Nummer 1 Satz 3 Buchstabe a Doppelbuchstabe aa EStG). Es ist auf die Zahlungen abzustellen, die für einen Monat des jeweiligen Vergleichszeitraums gezahlt wurden. Unerheblich ist, ob einzelne Einnahmen eventuell steuerfrei sind. Wollen Sie Einnahmen aus kurz befristeten Beschäftigungsverhältnissen in den Darstellenden Künsten und/oder aus unständigen Beschäftigungsverhältnissen geltend machen (siehe Ziffer 2.3), geben Sie diese in den Anträgen bitte in einem separaten Feld an (siehe Ziffer 3.7). ----------------------------------------------\n",
            "Für den Fall, dass Sie im Jahr 2019 ausschließlich und für das ganze Jahr Elterngeld bezogen haben, siehe unter Ziffer 6.3.\n",
            "[[41]] 5.8 Wird der Zuschuss auf das Arbeitslosengeld beziehungsweise die Grundsicherung für Arbeitssuchende angerechnet? Nein, die Neustarthilfe 2022 dient der Sicherung der wirtschaftlichen Existenz der Antragstellenden, während das Arbeitslosengeld (ALG) eine Lohnersatzleistung und ALG II eine Leistung zur Sicherung des Lebensunterhalts ist. Auch bei der Ermittlung des Einkommens zur Bestimmung des Kinderzuschlags findet er keine Berücksichtigung.\n",
            "[[45]] 6.2 Gibt es Sonderregelungen für Fälle, in denen die Umsätze im Vergleichszeitraum 2019 aufgrund außergewöhnlicher Umstände (zum Beispiel Unterbrechung der Geschäftstätigkeit wegen Eltern- oder Pflegezeit, Krankheit) vergleichsweise gering waren? Bezugsgröße für die Berechnung des Referenzumsatzes ist grundsätzlich bei Aufnahme der selbständigen Tätigkeit vor dem 1. Januar 2019 das Jahr 2019. Vergleichsweise geringe Einkünfte im Jahr 2019 aufgrund anderer außergewöhnlicher Umstände\n",
            "Antragstellende, die vor dem 1. Januar 2019 die selbständige Tätigkeit aufgenommen haben, deren Umsätze im regulär heranzuziehenden Vergleichszeitraum 2019 aber aufgrund begründeter außergewöhnlicher Umstände (andere Umstände als Unterbrechung der Geschäftstätigkeit im Jahr 2019 aufgrund von Elternzeit, Pflegezeit oder Krankheit, siehe nächste Ziffer) ungewöhnlich niedrig waren, haben die Möglichkeit, zur Berechnung des Referenzumsatzes als alternativen Vergleichsumsatz (Referenzmonatsumsatz)\n",
            "- entweder den monatlichen Durchschnittsumsatz eines Quartals von 2019 (zum Beispiel 1. Quartal 1. Januar bis 31. März 2019 oder 3. Quartal: 1. Juli bis 30. September 2019)\n",
            "- oder den Durchschnitt aller vollen Monate im Jahr 2019, in denen ein Umsatz im Sinne von 3.5 erzielt wurde,\n",
            "heranzuziehen. September 2021 wie eine erstmalige Aufnahme der Geschäftstätigkeit zu behandeln (vergleiche 3.3). Somit können Sie zur Berechnung des Referenzumsatzes auch die unter 3.3 genannten Vergleichszeiträume heranziehen. Somit können Antragstellende, deren außergewöhnliche Umstände in einer Unterbrechung ihrer Geschäftstätigkeit im Jahr 2019 aufgrund von Elternzeit, Pflegezeit oder Krankheit bestehen, zur Berechnung des Referenzumsatzes als alternativen Vergleichsumsatz (Referenzmonatsumsatz)\n",
            "- den durchschnittlichen monatlichen Umsatz aller vollen Monate der selbständigen/gewerblichen Geschäftstätigkeit im Jahr 2019,\n",
            "- den durchschnittlichen Monatsumsatz der beiden Vorkrisenmonate Januar und Februar 2020 (Vergleichszeitraum: 1. Januar 2020 bis 29. Februar 2020),\n",
            "- oder den durchschnittlichen Monatsumsatz des 3. Quartals 2021 (Vergleichszeitraum: 1. Juli 2021 bis 30. September 2021),\n",
            "- den durchschnittlichen monatlichen Umsatz aller vollen Monate der selbständigen/gewerblichen Geschäftstätigkeit im Jahr 2021 oder\n",
            "- den durchschnittlichen Monatsumsatz des Jahres 2021 anhand des geschätzten Jahresumsatzes 2021, der bei der erstmaligen steuerlichen Erfassung beim zuständigen Finanzamt im \"Fragebogen zur steuerlichen Erfassung\" angegeben wurde,\n",
            "heranziehen. Begründung und Nachweis der außergewöhnlichen Umstände\n",
            "Im Antragsformular ist bei der Begründung des außergewöhnlichen Umstandes jeweils der ursprünglich (das heißt ohne die hier beschriebene Regelung) anzusetzende Referenzumsatz anzugeben. - Im Falle eines Direktantrags ist das Vorliegen eines außergewöhnlichen Umstandes im Antrag zu begründen und auf Anforderung der Bewilligungsstelle nachzuweisen. - Im Falle der Antragstellung durch eine prüfende oder einen prüfenden Dritten ist das Vorliegen begründeter außergewöhnlicher Umstände gegenüber der beziehungsweise dem prüfenden Dritten darzulegen. Die oder der prüfende Dritte prüft die Angaben der Antragstellenden auf Nachvollziehbarkeit und Plausibilität und nimmt die Angaben zu seinen Unterlagen. Auf Nachfrage der Bewilligungsstelle legt die oder der prüfende Dritte die Angaben der Antragstellenden beziehungsweise des Antragstellers der Bewilligungsstelle vor. Darüberhinausgehende Sonderregelungen sind nicht vorgesehen. Die Neustarthilfe 2022 soll eine unbürokratisch zu beantragende Fördermaßnahme sein. Daher sind Abweichungen von der Berechnung des Referenzumsatzes, die eine weitere Prüfung erforderlich machen würden, nicht vorgesehen. Für Antragstellende, die zwischen dem 1. Januar 2019 und dem 30. September 2021 ihre Geschäftstätigkeit aufgenommen haben beziehungsweise gegründet wurden, können die unter 3.3 genannten Vergleichszeiträume zur Ermittlung ihres Referenzumsatzes herangezogen werden.\n",
            "Tokens: 2404\n"
          ]
        }
      ]
    },
    {
      "cell_type": "markdown",
      "source": [
        "Load an extracting Question Answering (QA) model."
      ],
      "metadata": {
        "id": "SN_V4A0ooVjX"
      }
    },
    {
      "cell_type": "code",
      "source": [
        "import torch\n",
        "from transformers import pipeline\n",
        "\n",
        "device = torch.device(\"cuda:0\" if torch.cuda.is_available() else \"cpu\")\n",
        "\n",
        "qa_model_id = 'timpal0l/mdeberta-v3-base-squad2'\n",
        "qa_pipeline = pipeline('question-answering', model=qa_model_id, tokenizer=qa_model_id, device=device)\n",
        "\n",
        "qa_pipeline.device"
      ],
      "metadata": {
        "colab": {
          "base_uri": "https://localhost:8080/"
        },
        "id": "QM135EAzoWPz",
        "outputId": "1e953d5d-3a66-48f2-f967-ff867b183345"
      },
      "execution_count": 12,
      "outputs": [
        {
          "output_type": "execute_result",
          "data": {
            "text/plain": [
              "device(type='cuda', index=0)"
            ]
          },
          "metadata": {},
          "execution_count": 12
        }
      ]
    },
    {
      "cell_type": "markdown",
      "source": [
        "Find answers with an extracting Question Answering (QA) model. These QA models find the most relevant text fragments for the given question (as citation or reference) and cannot really do reasoning or create answers.\n",
        "\n",
        "The texts in this FAQ are too complicated for such a small model. We need a much bigger model!"
      ],
      "metadata": {
        "id": "LNAP6X9Aoad4"
      }
    },
    {
      "cell_type": "code",
      "source": [
        "qa_pipeline({\n",
        "    'question': question,\n",
        "    'context': facts\n",
        "}, top_k=10)"
      ],
      "metadata": {
        "colab": {
          "base_uri": "https://localhost:8080/"
        },
        "id": "ZAujLe8oobE_",
        "outputId": "21863fc4-824d-4c67-ed46-5697eb000a91"
      },
      "execution_count": 13,
      "outputs": [
        {
          "output_type": "execute_result",
          "data": {
            "text/plain": [
              "[{'score': 0.0002434718335280195,\n",
              "  'start': 1946,\n",
              "  'end': 2028,\n",
              "  'answer': ' Löhne und Gehälter aus sozialversicherungspflichtigen Beschäftigungsverhältnissen'},\n",
              " {'score': 4.392413029563613e-05,\n",
              "  'start': 6731,\n",
              "  'end': 6745,\n",
              "  'answer': ' nachzuweisen.'},\n",
              " {'score': 3.444353205850348e-05,\n",
              "  'start': 6692,\n",
              "  'end': 6745,\n",
              "  'answer': ' auf Anforderung der Bewilligungsstelle nachzuweisen.'},\n",
              " {'score': 3.27426714648027e-05,\n",
              "  'start': 6678,\n",
              "  'end': 6745,\n",
              "  'answer': ' begründen und auf Anforderung der Bewilligungsstelle nachzuweisen.'},\n",
              " {'score': 3.0354240152519196e-05,\n",
              "  'start': 1946,\n",
              "  'end': 1965,\n",
              "  'answer': ' Löhne und Gehälter'},\n",
              " {'score': 2.445508107484784e-05,\n",
              "  'start': 7266,\n",
              "  'end': 7327,\n",
              "  'answer': ' Darüberhinausgehende Sonderregelungen sind nicht vorgesehen.'},\n",
              " {'score': 2.0070958271389827e-05,\n",
              "  'start': 1746,\n",
              "  'end': 1780,\n",
              "  'answer': ' („Einnahmen im Vergleichszeitraum'},\n",
              " {'score': 1.4775281670154072e-05,\n",
              "  'start': 1512,\n",
              "  'end': 1552,\n",
              "  'answer': ' Einnahmen aus nichtselbständiger Arbeit'},\n",
              " {'score': 1.3107010090607218e-05,\n",
              "  'start': 6731,\n",
              "  'end': 6745,\n",
              "  'answer': ' nachzuweisen.'},\n",
              " {'score': 1.0701991413952783e-05,\n",
              "  'start': 6696,\n",
              "  'end': 6745,\n",
              "  'answer': ' Anforderung der Bewilligungsstelle nachzuweisen.'}]"
            ]
          },
          "metadata": {},
          "execution_count": 13
        }
      ]
    },
    {
      "cell_type": "markdown",
      "source": [
        "# With OpenAI Models\n",
        "Import Open API key."
      ],
      "metadata": {
        "id": "bKKZ7zQwpRvC"
      }
    },
    {
      "cell_type": "code",
      "source": [
        "from google.colab import drive\n",
        "import json\n",
        "import openai\n",
        "\n",
        "drive.mount('/content/drive')\n",
        "with open('/content/drive/My Drive/Private/api_keys.json', 'r') as f:\n",
        "    api_keys = json.load(f)\n",
        "openai.api_key = api_keys['openai']"
      ],
      "metadata": {
        "id": "agXzXzF3pW9h",
        "colab": {
          "base_uri": "https://localhost:8080/"
        },
        "outputId": "bb851866-7c52-43fe-f77b-964e6a674ac7"
      },
      "execution_count": 14,
      "outputs": [
        {
          "output_type": "stream",
          "name": "stdout",
          "text": [
            "Mounted at /content/drive\n"
          ]
        }
      ]
    },
    {
      "cell_type": "code",
      "source": [
        "prompt = \"\"\"Du bist eine herausragende Suchmaschine, die in einem Webportal natürlichsprachige Fragen beantwortet.\n",
        "Es folgt eine Frage und ein Kontext mit mehreren Fakten.\n",
        "Nutze für die Antwort nur die gegebenen Fakten.\n",
        "Wenn kein Fakt zur Antwort passt, dann antworte mit 'Ich bin mir nicht sicher.'\n",
        "Ignoriere dabei Fakten, die nicht unmittelbar relevant für die Frage sind (nicht alle Fakten passen zur Frage).\n",
        "Fokussiere bei der Antwort auf den relevantesten Fakt und bleibe beim Thema (nicht abwschweifen).\n",
        "Die Fakten beginnen jeweils mit einer Referenzangabe im Format [[x]]. Zitiere zu einem verwendeten Fakt jeweils die entsprechende Referenzangabe [[x]].\n",
        "Antworte kurz und prägnant in maximal 250 Wörtern. Formuliere in verständlichen Sätzen und nutze einfache Sprache.\n",
        "Denke Schritt für Schritt und prüfe Deine Antwort.\n",
        "\n",
        "Frage: \"\"\" + question + '\\n\\nKontext:\\n-----' + facts + '\\n-----\\nAntwort:'\n",
        "print(prompt)\n",
        "print(f\"Tokens: {len(prompt_tokenizer.encode(prompt))}\")"
      ],
      "metadata": {
        "id": "XuQFp2Thpj2g",
        "colab": {
          "base_uri": "https://localhost:8080/"
        },
        "outputId": "8754de69-178f-48e1-c922-7724633eb332"
      },
      "execution_count": 15,
      "outputs": [
        {
          "output_type": "stream",
          "name": "stdout",
          "text": [
            "Du bist eine herausragende Suchmaschine, die in einem Webportal natürlichsprachige Fragen beantwortet.\n",
            "Es folgt eine Frage und ein Kontext mit mehreren Fakten.\n",
            "Nutze für die Antwort nur die gegebenen Fakten.\n",
            "Wenn kein Fakt zur Antwort passt, dann antworte mit 'Ich bin mir nicht sicher.'\n",
            "Ignoriere dabei Fakten, die nicht unmittelbar relevant für die Frage sind (nicht alle Fakten passen zur Frage).\n",
            "Fokussiere bei der Antwort auf den relevantesten Fakt und bleibe beim Thema (nicht abwschweifen).\n",
            "Die Fakten beginnen jeweils mit einer Referenzangabe im Format [[x]]. Zitiere zu einem verwendeten Fakt jeweils die entsprechende Referenzangabe [[x]].\n",
            "Antworte kurz und prägnant in maximal 250 Wörtern. Formuliere in verständlichen Sätzen und nutze einfache Sprache.\n",
            "Denke Schritt für Schritt und prüfe Deine Antwort.\n",
            "\n",
            "Frage: Welche Regelungen gelten für die Berechnung des Elterngelds bei Frühgeborene?\n",
            "\n",
            "Kontext:\n",
            "-----\n",
            "[[46]] 6.3 Welche Regelungen gelten, wenn ich 2019 in Elternzeit war und daher geringere oder keine Umsätze aus selbständiger Tätigkeit hatte? Berechnung des Referenzumsatzes bei Elternzeit in 2019\n",
            "Für Antragstellende, die im Jahr 2019 Elternzeit in Anspruch genommen haben, besteht stets die Möglichkeit die Elternzeit als Unterbrechung der Geschäftstätigkeit (= außergewöhnlicher Umstand) zu behandeln und den Referenzumsatz nach Punkt 6.2 berechnen zu lassen. Auf Anforderung der Bewilligungsstellen sind entsprechende Nachweise bereitzustellen. Berechnung des Referenzumsatzes bei vollständiger Elternzeit im Jahr 2019\n",
            "Antragstellende, die 2019 vollständig in Elternzeit waren, können sich auch entscheiden, alternativ den Referenzumsatz für 2019 auf Basis des Elterngeldes zu ermitteln. Als (dreimonatiger) Referenzumsatz gilt dann 25 Prozent des im Jahr 2019 erhaltenen Elterngeldes zuzüglich eines 15-prozentigen Aufschlages auf das in 2019 erhaltene Elterngeld (Referenzumsatz = 40 Prozent des Elterngeldes 2019). Zur Berechnung der Neustarthilfe 2022 anhand des Referenzumsatzes siehe Ziffer 3.2. Zur Frage der Antragsberechtigung bei vollständiger Elternzeit in 2019, siehe Ziffer 2.4. Auf Anforderung der Bewilligungsstellen sind entsprechende Nachweise bereitzustellen.\n",
            "[[11]] 3.6 Welche Einnahmen aus nichtselbständiger Tätigkeit werden berücksichtigt? Beantragen Sie als natürliche Person die Neustarthilfe 2022, werden sowohl bei der Berechnung des Referenzumsatzes als auch bei der Endabrechnung Einnahmen aus nichtselbständiger Arbeit zusätzlich zu den freiberuflichen und gewerblichen Umsätzen berücksichtigt. Im Antragsverfahren erfolgt die Abfrage nach den Einnahmen aus nichtselbständiger Tätigkeit in einem gesonderten Feld („Einnahmen im Vergleichszeitraum aus weiteren nichtselbständigen Beschäftigungsverhältnissen“). In dieses geben Sie die Summe der folgenden Einnahmen im Vergleichszeitraum (in der Regel 2019) ein:\n",
            "- Löhne und Gehälter aus sozialversicherungspflichtigen Beschäftigungsverhältnissen (anzugeben ist der Bruttolohn / das Bruttogehalt)\n",
            "- die im Rahmen von geringfügigen Beschäftigungsverhältnissen erzielten Entgelte (sogenannte „Minijobs“ bis zu 450 Euro, sowie kurzfristigen Beschäftigungen). - steuerfreie Lohnersatzleistungen wie zum Beispiel Kurzarbeitergeld, Arbeitslosengeld und Elterngeld (siehe § 32b Absatz 1 Einkommensteuergesetz, EStG). Hinzuzurechnen sind auch (abschließende Aufzählung):\n",
            "- vermögenswirksame Leistungen\n",
            "- Abfindungen\n",
            "- Sachbezüge\n",
            "- Tantiemen\n",
            "- Provisionen\n",
            "- Gratifikationen\n",
            "- Versorgungsbezüge\n",
            "- (Basis-) Renten, unter anderem Renten aus der gesetzlichen Rentenversicherung (siehe § 22 Nummer 1 Satz 3 Buchstabe a Doppelbuchstabe aa EStG). Es ist auf die Zahlungen abzustellen, die für einen Monat des jeweiligen Vergleichszeitraums gezahlt wurden. Unerheblich ist, ob einzelne Einnahmen eventuell steuerfrei sind. Wollen Sie Einnahmen aus kurz befristeten Beschäftigungsverhältnissen in den Darstellenden Künsten und/oder aus unständigen Beschäftigungsverhältnissen geltend machen (siehe Ziffer 2.3), geben Sie diese in den Anträgen bitte in einem separaten Feld an (siehe Ziffer 3.7). ----------------------------------------------\n",
            "Für den Fall, dass Sie im Jahr 2019 ausschließlich und für das ganze Jahr Elterngeld bezogen haben, siehe unter Ziffer 6.3.\n",
            "[[41]] 5.8 Wird der Zuschuss auf das Arbeitslosengeld beziehungsweise die Grundsicherung für Arbeitssuchende angerechnet? Nein, die Neustarthilfe 2022 dient der Sicherung der wirtschaftlichen Existenz der Antragstellenden, während das Arbeitslosengeld (ALG) eine Lohnersatzleistung und ALG II eine Leistung zur Sicherung des Lebensunterhalts ist. Auch bei der Ermittlung des Einkommens zur Bestimmung des Kinderzuschlags findet er keine Berücksichtigung.\n",
            "[[45]] 6.2 Gibt es Sonderregelungen für Fälle, in denen die Umsätze im Vergleichszeitraum 2019 aufgrund außergewöhnlicher Umstände (zum Beispiel Unterbrechung der Geschäftstätigkeit wegen Eltern- oder Pflegezeit, Krankheit) vergleichsweise gering waren? Bezugsgröße für die Berechnung des Referenzumsatzes ist grundsätzlich bei Aufnahme der selbständigen Tätigkeit vor dem 1. Januar 2019 das Jahr 2019. Vergleichsweise geringe Einkünfte im Jahr 2019 aufgrund anderer außergewöhnlicher Umstände\n",
            "Antragstellende, die vor dem 1. Januar 2019 die selbständige Tätigkeit aufgenommen haben, deren Umsätze im regulär heranzuziehenden Vergleichszeitraum 2019 aber aufgrund begründeter außergewöhnlicher Umstände (andere Umstände als Unterbrechung der Geschäftstätigkeit im Jahr 2019 aufgrund von Elternzeit, Pflegezeit oder Krankheit, siehe nächste Ziffer) ungewöhnlich niedrig waren, haben die Möglichkeit, zur Berechnung des Referenzumsatzes als alternativen Vergleichsumsatz (Referenzmonatsumsatz)\n",
            "- entweder den monatlichen Durchschnittsumsatz eines Quartals von 2019 (zum Beispiel 1. Quartal 1. Januar bis 31. März 2019 oder 3. Quartal: 1. Juli bis 30. September 2019)\n",
            "- oder den Durchschnitt aller vollen Monate im Jahr 2019, in denen ein Umsatz im Sinne von 3.5 erzielt wurde,\n",
            "heranzuziehen. September 2021 wie eine erstmalige Aufnahme der Geschäftstätigkeit zu behandeln (vergleiche 3.3). Somit können Sie zur Berechnung des Referenzumsatzes auch die unter 3.3 genannten Vergleichszeiträume heranziehen. Somit können Antragstellende, deren außergewöhnliche Umstände in einer Unterbrechung ihrer Geschäftstätigkeit im Jahr 2019 aufgrund von Elternzeit, Pflegezeit oder Krankheit bestehen, zur Berechnung des Referenzumsatzes als alternativen Vergleichsumsatz (Referenzmonatsumsatz)\n",
            "- den durchschnittlichen monatlichen Umsatz aller vollen Monate der selbständigen/gewerblichen Geschäftstätigkeit im Jahr 2019,\n",
            "- den durchschnittlichen Monatsumsatz der beiden Vorkrisenmonate Januar und Februar 2020 (Vergleichszeitraum: 1. Januar 2020 bis 29. Februar 2020),\n",
            "- oder den durchschnittlichen Monatsumsatz des 3. Quartals 2021 (Vergleichszeitraum: 1. Juli 2021 bis 30. September 2021),\n",
            "- den durchschnittlichen monatlichen Umsatz aller vollen Monate der selbständigen/gewerblichen Geschäftstätigkeit im Jahr 2021 oder\n",
            "- den durchschnittlichen Monatsumsatz des Jahres 2021 anhand des geschätzten Jahresumsatzes 2021, der bei der erstmaligen steuerlichen Erfassung beim zuständigen Finanzamt im \"Fragebogen zur steuerlichen Erfassung\" angegeben wurde,\n",
            "heranziehen. Begründung und Nachweis der außergewöhnlichen Umstände\n",
            "Im Antragsformular ist bei der Begründung des außergewöhnlichen Umstandes jeweils der ursprünglich (das heißt ohne die hier beschriebene Regelung) anzusetzende Referenzumsatz anzugeben. - Im Falle eines Direktantrags ist das Vorliegen eines außergewöhnlichen Umstandes im Antrag zu begründen und auf Anforderung der Bewilligungsstelle nachzuweisen. - Im Falle der Antragstellung durch eine prüfende oder einen prüfenden Dritten ist das Vorliegen begründeter außergewöhnlicher Umstände gegenüber der beziehungsweise dem prüfenden Dritten darzulegen. Die oder der prüfende Dritte prüft die Angaben der Antragstellenden auf Nachvollziehbarkeit und Plausibilität und nimmt die Angaben zu seinen Unterlagen. Auf Nachfrage der Bewilligungsstelle legt die oder der prüfende Dritte die Angaben der Antragstellenden beziehungsweise des Antragstellers der Bewilligungsstelle vor. Darüberhinausgehende Sonderregelungen sind nicht vorgesehen. Die Neustarthilfe 2022 soll eine unbürokratisch zu beantragende Fördermaßnahme sein. Daher sind Abweichungen von der Berechnung des Referenzumsatzes, die eine weitere Prüfung erforderlich machen würden, nicht vorgesehen. Für Antragstellende, die zwischen dem 1. Januar 2019 und dem 30. September 2021 ihre Geschäftstätigkeit aufgenommen haben beziehungsweise gegründet wurden, können die unter 3.3 genannten Vergleichszeiträume zur Ermittlung ihres Referenzumsatzes herangezogen werden.\n",
            "-----\n",
            "Antwort:\n",
            "Tokens: 2669\n"
          ]
        }
      ]
    },
    {
      "cell_type": "markdown",
      "source": [
        "Call generative language model."
      ],
      "metadata": {
        "id": "yt_BI5BHprjX"
      }
    },
    {
      "cell_type": "code",
      "source": [
        "response = openai.Completion.create(model=\"text-davinci-003\", prompt=prompt, max_tokens=500)\n",
        "response"
      ],
      "metadata": {
        "id": "t6P1LDlSpsOE",
        "colab": {
          "base_uri": "https://localhost:8080/"
        },
        "outputId": "29be7076-f0c4-47d3-8a03-a572928a24ed"
      },
      "execution_count": 16,
      "outputs": [
        {
          "output_type": "execute_result",
          "data": {
            "text/plain": [
              "<OpenAIObject text_completion id=cmpl-7DXCMZsM565Z6Sy5pYYKBYVjNtbZ7 at 0x7f94c6989030> JSON: {\n",
              "  \"choices\": [\n",
              "    {\n",
              "      \"finish_reason\": \"stop\",\n",
              "      \"index\": 0,\n",
              "      \"logprobs\": null,\n",
              "      \"text\": \" Der Referenzumsatz des Elterngelds bei Fr\\u00fchgeborene wird nach [[46]] ermittelt. Hierzu kann entweder der Referenzmonatsumsatz aus dem Jahr 2019, der auf 25 Prozent des im Jahr 2019 erhaltenen Elterngeldes zuz\\u00fcglich eines 15-Prozentigen Aufschlages auf das im Jahr 2019 erhaltenen Elterngelds (Referenzumsatz = 40 Prozent des Elterngeldes 2019) berechnet wird, oder aber ein alternativer Vergleichsumsatz herangezogen werden. Dieser betr\\u00e4gt den durchschnittlichen monatlichen Umsatz aller vollen Monate der selbst\\u00e4ndigen/gewerblichen Gesch\\u00e4ftst\\u00e4tigkeit im Jahr 2019. Sollte der Referenzumsatz nicht nachvollziehbar ausgepr\\u00e4gt sein, so kann als Alternative der gesch\\u00e4tzter Jahresumsatz 2021 herangezogen werden.\"\n",
              "    }\n",
              "  ],\n",
              "  \"created\": 1683460234,\n",
              "  \"id\": \"cmpl-7DXCMZsM565Z6Sy5pYYKBYVjNtbZ7\",\n",
              "  \"model\": \"text-davinci-003\",\n",
              "  \"object\": \"text_completion\",\n",
              "  \"usage\": {\n",
              "    \"completion_tokens\": 266,\n",
              "    \"prompt_tokens\": 3431,\n",
              "    \"total_tokens\": 3697\n",
              "  }\n",
              "}"
            ]
          },
          "metadata": {},
          "execution_count": 16
        }
      ]
    },
    {
      "cell_type": "markdown",
      "source": [
        "Extract response text."
      ],
      "metadata": {
        "id": "w4PA8damp2MA"
      }
    },
    {
      "cell_type": "code",
      "source": [
        "response['choices'][0]['text'].strip()"
      ],
      "metadata": {
        "id": "otc9QYJdp23j",
        "colab": {
          "base_uri": "https://localhost:8080/",
          "height": 104
        },
        "outputId": "6f0f0f53-ecab-4eca-c4d5-01ac8c5678de"
      },
      "execution_count": 17,
      "outputs": [
        {
          "output_type": "execute_result",
          "data": {
            "text/plain": [
              "'Der Referenzumsatz des Elterngelds bei Frühgeborene wird nach [[46]] ermittelt. Hierzu kann entweder der Referenzmonatsumsatz aus dem Jahr 2019, der auf 25 Prozent des im Jahr 2019 erhaltenen Elterngeldes zuzüglich eines 15-Prozentigen Aufschlages auf das im Jahr 2019 erhaltenen Elterngelds (Referenzumsatz = 40 Prozent des Elterngeldes 2019) berechnet wird, oder aber ein alternativer Vergleichsumsatz herangezogen werden. Dieser beträgt den durchschnittlichen monatlichen Umsatz aller vollen Monate der selbständigen/gewerblichen Geschäftstätigkeit im Jahr 2019. Sollte der Referenzumsatz nicht nachvollziehbar ausgeprägt sein, so kann als Alternative der geschätzter Jahresumsatz 2021 herangezogen werden.'"
            ],
            "application/vnd.google.colaboratory.intrinsic+json": {
              "type": "string"
            }
          },
          "metadata": {},
          "execution_count": 17
        }
      ]
    }
  ]
}